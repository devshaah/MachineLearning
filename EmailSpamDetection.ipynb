{
  "nbformat": 4,
  "nbformat_minor": 0,
  "metadata": {
    "colab": {
      "provenance": []
    },
    "kernelspec": {
      "name": "python3",
      "display_name": "Python 3"
    },
    "language_info": {
      "name": "python"
    }
  },
  "cells": [
    {
      "cell_type": "code",
      "execution_count": 16,
      "metadata": {
        "colab": {
          "base_uri": "https://localhost:8080/"
        },
        "id": "mgy-LAhVkVOe",
        "outputId": "84274855-f398-4ba5-852d-810db9aa91d9"
      },
      "outputs": [
        {
          "output_type": "execute_result",
          "data": {
            "text/plain": [
              "0.9874439461883409"
            ]
          },
          "metadata": {},
          "execution_count": 16
        }
      ],
      "source": [
        "import pandas as pd\n",
        "from sklearn.model_selection import train_test_split\n",
        "from sklearn.naive_bayes import MultinomialNB\n",
        "df = pd.read_csv(\"spam.csv\")\n",
        "\n",
        "df['spam'] = df['Category'].apply(lambda x : 1 if x=='spam' else 0)\n",
        "\n",
        "target = df['spam']\n",
        "input = df['Message']\n",
        "\n",
        "xt,xtst,yt,ytst = train_test_split(input,target,test_size=0.2)\n",
        "\n",
        "#WE NEED TO CONVERT MESSAGE INTO NUMBERS\n",
        "#WE DO THAT BY COUNT VECTORIZTION TECHNIQUE\n",
        "\n",
        "from sklearn.feature_extraction.text import CountVectorizer\n",
        "\n",
        "vectorizer = CountVectorizer()\n",
        "xt_count = vectorizer.fit_transform(xt.values)\n",
        "\n",
        "model = MultinomialNB()\n",
        "model.fit(xt_count,yt)\n",
        "model.score(vectorizer.transform(xtst),ytst)"
      ]
    },
    {
      "cell_type": "code",
      "source": [
        "emails = [\n",
        "    'Hey mohan, can we get together to watch football game tommorow?',\n",
        "    'Upto 20% discount on parking, exclusive offer just for you. Dont miss this reward'\n",
        "]\n",
        "emails_count = vectorizer.transform(emails)\n",
        "model.predict(emails_count)"
      ],
      "metadata": {
        "colab": {
          "base_uri": "https://localhost:8080/"
        },
        "id": "NCNHii-en5Bw",
        "outputId": "3a26009d-45cd-490e-e66b-8feea1c0fca5"
      },
      "execution_count": 17,
      "outputs": [
        {
          "output_type": "execute_result",
          "data": {
            "text/plain": [
              "array([0, 1])"
            ]
          },
          "metadata": {},
          "execution_count": 17
        }
      ]
    },
    {
      "cell_type": "code",
      "source": [
        "#PIPELINE\n",
        "\n",
        "from sklearn.pipeline import Pipeline\n",
        "\n",
        "clf = Pipeline([\n",
        "    ('vectorizer', CountVectorizer()),\n",
        "    ('nb',MultinomialNB())\n",
        "])\n",
        "\n",
        "clf.fit(xt,yt)   #the pipeline would convert it first and then train the model\n",
        "clf.predict(xtst)"
      ],
      "metadata": {
        "colab": {
          "base_uri": "https://localhost:8080/"
        },
        "id": "1xZ2BuBBowwV",
        "outputId": "9330690d-f014-4936-e61f-cf61353aab8d"
      },
      "execution_count": 23,
      "outputs": [
        {
          "output_type": "execute_result",
          "data": {
            "text/plain": [
              "array([0, 0, 1, ..., 0, 0, 0])"
            ]
          },
          "metadata": {},
          "execution_count": 23
        }
      ]
    }
  ]
}