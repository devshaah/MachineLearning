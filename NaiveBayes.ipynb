{
  "nbformat": 4,
  "nbformat_minor": 0,
  "metadata": {
    "colab": {
      "provenance": []
    },
    "kernelspec": {
      "name": "python3",
      "display_name": "Python 3"
    },
    "language_info": {
      "name": "python"
    }
  },
  "cells": [
    {
      "cell_type": "code",
      "execution_count": null,
      "metadata": {
        "id": "lk6KJwTZebBx"
      },
      "outputs": [],
      "source": [
        "#BAYES PROBABILITY\n",
        "# P(A|B) = P(B|A) * P(A) / P(B)\n",
        "#CALLED NAIVE BAYES BECAUSE IT MAKES A NAIVE ASSUMPTION BASED ON CERTAIN FEATURES ARE INDEPENDENT OF EACH OTHER\n",
        "\n",
        "import pandas as pd\n",
        "import numpy as np\n",
        "\n",
        "df = pd.read_csv('titanic.csv')\n",
        "df.drop(['PassengerId','Name','SibSp','Parch','Ticket','Cabin','Embarked'],axis='columns',inplace=True)"
      ]
    },
    {
      "cell_type": "code",
      "source": [
        "target = df['Survived']\n",
        "inputs = df.drop(['Survived'],axis='columns')"
      ],
      "metadata": {
        "id": "fFi4FX1Kg8Ut"
      },
      "execution_count": 40,
      "outputs": []
    },
    {
      "cell_type": "code",
      "source": [
        "dummy = pd.get_dummies(inputs.Sex)\n",
        "inputs = pd.concat([inputs,dummy],axis='columns')\n",
        "inputs.drop(['Sex'],axis='columns',inplace=True)\n",
        "inputs.Age = inputs.Age.fillna(inputs.Age.mean())\n",
        "inputs"
      ],
      "metadata": {
        "id": "JztJacLrhMlq"
      },
      "execution_count": null,
      "outputs": []
    },
    {
      "cell_type": "code",
      "source": [
        "from sklearn.model_selection import train_test_split\n",
        "from sklearn.naive_bayes import GaussianNB\n",
        "xt,xtst,yt,ytst = train_test_split(inputs,target,test_size=0.2)\n",
        "\n",
        "model = GaussianNB()\n",
        "model.fit(xt,yt)\n",
        "model.score(xtst,ytst)\n",
        "model.predict(xtst)"
      ],
      "metadata": {
        "colab": {
          "base_uri": "https://localhost:8080/"
        },
        "id": "25cW30rKimWb",
        "outputId": "a8a05739-cba6-4d95-a789-e0d1f1becb37"
      },
      "execution_count": 42,
      "outputs": [
        {
          "output_type": "execute_result",
          "data": {
            "text/plain": [
              "array([0, 0, 1, 0, 1, 0, 1, 0, 0, 0, 1, 1, 1, 0, 0, 0, 0, 0, 0, 1, 0, 1,\n",
              "       1, 0, 0, 1, 1, 0, 0, 1, 0, 0, 0, 0, 0, 0, 0, 0, 1, 1, 0, 0, 0, 0,\n",
              "       0, 0, 0, 1, 0, 0, 1, 1, 0, 0, 0, 0, 1, 1, 0, 0, 1, 0, 1, 1, 0, 1,\n",
              "       1, 0, 1, 0, 0, 0, 0, 0, 0, 0, 0, 1, 1, 0, 0, 0, 0, 1, 1, 1, 1, 1,\n",
              "       0, 0, 1, 1, 0, 0, 1, 0, 0, 0, 1, 0, 0, 0, 0, 1, 0, 0, 1, 0, 0, 0,\n",
              "       0, 0, 0, 1, 0, 0, 0, 0, 1, 0, 0, 0, 0, 0, 0, 0, 1, 1, 0, 0, 1, 0,\n",
              "       0, 1, 0, 1, 0, 0, 0, 1, 1, 1, 1, 0, 1, 0, 1, 1, 1, 1, 1, 1, 1, 0,\n",
              "       0, 0, 0, 1, 0, 0, 0, 0, 0, 0, 1, 1, 0, 1, 0, 1, 0, 1, 0, 0, 0, 0,\n",
              "       0, 1, 0])"
            ]
          },
          "metadata": {},
          "execution_count": 42
        }
      ]
    }
  ]
}